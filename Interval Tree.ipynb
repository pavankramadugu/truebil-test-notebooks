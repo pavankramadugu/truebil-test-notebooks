{
 "cells": [
  {
   "cell_type": "code",
   "execution_count": 3,
   "metadata": {},
   "outputs": [],
   "source": [
    "from intervaltree import IntervalTree, Interval"
   ]
  },
  {
   "cell_type": "code",
   "execution_count": 70,
   "metadata": {},
   "outputs": [],
   "source": [
    "intervals = [(0, 2), (1, 3), (2, 4), (3, 5), (4, 6), (5, 7), (6, 8), (7, 9), (9, 100)]"
   ]
  },
  {
   "cell_type": "code",
   "execution_count": 71,
   "metadata": {},
   "outputs": [],
   "source": [
    "def get_interval_tree(intervals):\n",
    "    price_intervals = IntervalTree()\n",
    "    for index, interval in enumerate(intervals):\n",
    "        beg, end = interval\n",
    "        interval_data = Interval(beg, end, index)\n",
    "        price_intervals.append(interval_data)\n",
    "\n",
    "    return price_intervals"
   ]
  },
  {
   "cell_type": "code",
   "execution_count": 89,
   "metadata": {},
   "outputs": [
    {
     "name": "stdout",
     "output_type": "stream",
     "text": [
      "[Interval(1, 3, 1), Interval(2, 4, 2), Interval(3, 5, 3)]\n",
      "2\n"
     ]
    }
   ],
   "source": [
    "t = get_interval_tree(intervals)\n",
    "print((sorted(t[2:4])))\n",
    "print((sorted(t[2:4]))[1].data)\n"
   ]
  },
  {
   "cell_type": "code",
   "execution_count": 15,
   "metadata": {},
   "outputs": [],
   "source": [
    "ivs = [(1, 2), (4, 7), (5, 9)]"
   ]
  },
  {
   "cell_type": "code",
   "execution_count": 16,
   "metadata": {},
   "outputs": [
    {
     "name": "stdout",
     "output_type": "stream",
     "text": [
      "IntervalTree([Interval(1, 2, '1-2'), Interval(4, 7, '4-7'), Interval(5, 9, '5-9')])\n"
     ]
    }
   ],
   "source": [
    "t = IntervalTree(Interval(begin, end, \"%d-%d\" % (begin, end)) for begin, end in ivs)\n",
    "print(t)"
   ]
  },
  {
   "cell_type": "code",
   "execution_count": 31,
   "metadata": {},
   "outputs": [
    {
     "data": {
      "text/plain": [
       "Interval(4, 7, '4-7')"
      ]
     },
     "execution_count": 31,
     "metadata": {},
     "output_type": "execute_result"
    }
   ],
   "source": [
    "sorted(t[5])[0]"
   ]
  },
  {
   "cell_type": "code",
   "execution_count": 4,
   "metadata": {},
   "outputs": [],
   "source": [
    "price_slab_field_mapping = {\n",
    "            \"price_b_2\": {0, 200000},\n",
    "            \"price_bw_1_3\": {100000, 300000},\n",
    "            \"price_bw_2_4\": {200000, 400000},\n",
    "            \"price_bw_3_5\": {300000, 500000},\n",
    "            \"price_bw_4_6\": {400000, 600000},\n",
    "            \"price_bw_5_7\": {500000, 700000},\n",
    "            \"price_bw_6_8\": {600000, 800000},\n",
    "            \"price_bw_7_9\": {700000, 900000},\n",
    "            \"price_a_9\": {900000, 100000000000000},\n",
    "        }"
   ]
  },
  {
   "cell_type": "code",
   "execution_count": 5,
   "metadata": {},
   "outputs": [],
   "source": [
    "t = IntervalTree(Interval(begin, end, \"%d-%d\" % (begin, end)) for begin, end in price_slab_field_mapping.values())\n",
    "#t = IntervalTree.from_tuples(price_slab_field_mapping.values())"
   ]
  },
  {
   "cell_type": "code",
   "execution_count": 11,
   "metadata": {},
   "outputs": [
    {
     "name": "stdout",
     "output_type": "stream",
     "text": [
      "set([Interval(300000, 500000, '300000-500000'), Interval(0, 200000, '0-200000'), Interval(200000, 400000, '200000-400000'), Interval(100000, 300000, '100000-300000')])\n"
     ]
    }
   ],
   "source": [
    "print(t[50000:400000])"
   ]
  },
  {
   "cell_type": "code",
   "execution_count": 83,
   "metadata": {},
   "outputs": [
    {
     "data": {
      "text/plain": [
       "'300000-500000'"
      ]
     },
     "execution_count": 83,
     "metadata": {},
     "output_type": "execute_result"
    }
   ],
   "source": [
    "sorted(t[400000])[0].data"
   ]
  },
  {
   "cell_type": "code",
   "execution_count": 55,
   "metadata": {},
   "outputs": [
    {
     "ename": "SyntaxError",
     "evalue": "invalid syntax (<ipython-input-55-00d2d8366b52>, line 1)",
     "output_type": "error",
     "traceback": [
      "\u001b[0;36m  File \u001b[0;32m\"<ipython-input-55-00d2d8366b52>\"\u001b[0;36m, line \u001b[0;32m1\u001b[0m\n\u001b[0;31m    def get_interval_tree(price_slab_field_mapping.values()):\u001b[0m\n\u001b[0m                                                  ^\u001b[0m\n\u001b[0;31mSyntaxError\u001b[0m\u001b[0;31m:\u001b[0m invalid syntax\n"
     ]
    }
   ],
   "source": [
    "def get_interval_tree(price_slab_field_mapping.values()):\n",
    "    \"\"\" Returns interval tree for feature price slabs \"\"\"\n",
    "    price_intervals = IntervalTree()\n",
    "    for index, interval in enumerate(intervals):\n",
    "        beg, end = interval\n",
    "        interval_data = Interval(beg, end, index)\n",
    "        price_intervals.append(interval_data)\n",
    "\n",
    "    return price_intervals"
   ]
  },
  {
   "cell_type": "code",
   "execution_count": null,
   "metadata": {},
   "outputs": [],
   "source": []
  },
  {
   "cell_type": "code",
   "execution_count": null,
   "metadata": {},
   "outputs": [],
   "source": []
  },
  {
   "cell_type": "code",
   "execution_count": null,
   "metadata": {},
   "outputs": [],
   "source": []
  },
  {
   "cell_type": "code",
   "execution_count": 112,
   "metadata": {},
   "outputs": [],
   "source": [
    "price_slab_field_mapping = {\n",
    "            \"price_b_2\": 0,\n",
    "            \"price_bw_1_3\": 1,\n",
    "            \"price_bw_2_4\": 2,\n",
    "            \"price_bw_3_5\": 3,\n",
    "            \"price_bw_4_6\": 4,\n",
    "            \"price_bw_5_7\": 5,\n",
    "            \"price_bw_6_8\": 6,\n",
    "            \"price_bw_7_9\": 7,\n",
    "            \"price_a_9\": 8,\n",
    "        }"
   ]
  },
  {
   "cell_type": "code",
   "execution_count": 113,
   "metadata": {},
   "outputs": [],
   "source": [
    "def get_interval_tree(intervals):\n",
    "    price_intervals = IntervalTree()\n",
    "    for index, interval in enumerate(intervals):\n",
    "        beg, end = interval\n",
    "        interval_data = Interval(beg, end, index)\n",
    "        price_intervals.append(interval_data)\n",
    "\n",
    "    return price_intervals"
   ]
  },
  {
   "cell_type": "code",
   "execution_count": 114,
   "metadata": {},
   "outputs": [],
   "source": [
    "price_intervals = [(0, 200000), (100000, 300000), (200000, 400000), (300000, 500000), (400000, 600000),\n",
    "                           (500000, 700000), (600000, 800000), (700000, 900000), (900000, 1000000000)]\n",
    "t = get_interval_tree(price_intervals)"
   ]
  },
  {
   "cell_type": "code",
   "execution_count": 121,
   "metadata": {},
   "outputs": [
    {
     "name": "stdout",
     "output_type": "stream",
     "text": [
      "[Interval(200000, 400000, 2), Interval(300000, 500000, 3), Interval(400000, 600000, 4)]\n",
      "2\n",
      "3\n",
      "4\n"
     ]
    }
   ],
   "source": [
    "b = sorted(t[300000:500000])\n",
    "print(b)\n",
    "for k in b:\n",
    "    print(k.data)\n",
    "    "
   ]
  },
  {
   "cell_type": "code",
   "execution_count": null,
   "metadata": {},
   "outputs": [],
   "source": []
  },
  {
   "cell_type": "code",
   "execution_count": null,
   "metadata": {},
   "outputs": [],
   "source": []
  }
 ],
 "metadata": {
  "kernelspec": {
   "display_name": "Python 2",
   "language": "python",
   "name": "python2"
  },
  "language_info": {
   "codemirror_mode": {
    "name": "ipython",
    "version": 2
   },
   "file_extension": ".py",
   "mimetype": "text/x-python",
   "name": "python",
   "nbconvert_exporter": "python",
   "pygments_lexer": "ipython2",
   "version": "2.7.16"
  }
 },
 "nbformat": 4,
 "nbformat_minor": 2
}
