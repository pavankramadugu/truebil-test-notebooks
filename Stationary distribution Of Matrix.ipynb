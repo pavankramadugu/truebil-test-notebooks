{
 "cells": [
  {
   "cell_type": "code",
   "execution_count": 15,
   "metadata": {},
   "outputs": [
    {
     "name": "stdout",
     "output_type": "stream",
     "text": [
      "[0. 0. 0. 0. 0. 0. 1.]\n"
     ]
    }
   ],
   "source": [
    "import scipy.sparse.linalg\n",
    "import numpy as np\n",
    "A = np.array([[0.54, 0.34, 0.11, 0.00, 0.00, 0.00],\n",
    "              [0.65, 0.08, 0.05, 0.18, 0.05, 0.00],\n",
    "              [0.72, 0.14, 0.10, 0.04, 0.00, 0.00],\n",
    "              [0.77, 0.17, 0.06, 0.00, 0.00, 0.00],\n",
    "              [0.43, 0.19, 0.07, 0.00, 0.08, 0.23],\n",
    "              [0.79, 0.17, 0.01, 0.00, 0.02, 0.02]])\n",
    "states = A.shape[0]\n",
    "\n",
    "# I assume that the rows of A sum to 1.\n",
    "# Therefore, In order to use A as a left multiplication matrix,\n",
    "# the transposition is necessary.\n",
    "\n",
    "\n",
    "eigvalmat = (A - scipy.sparse.eye(states)).T\n",
    "probability_distribution_constraint = scipy.ones((1, states))\n",
    "\n",
    "lhs = scipy.sparse.vstack(\n",
    "    (eigvalmat,\n",
    "     probability_distribution_constraint))\n",
    "\n",
    "B = np.zeros(states+1)\n",
    "B[-1]=1\n",
    "\n",
    "r = scipy.sparse.linalg.lsqr(lhs, B)\n",
    "# r also contains metadata about the approximation process\n",
    "p = r[0]"
   ]
  },
  {
   "cell_type": "code",
   "execution_count": 13,
   "metadata": {},
   "outputs": [
    {
     "data": {
      "text/plain": [
       "array([  1.68118704,   4.04850534,  10.93541566,  20.53806747,\n",
       "        70.75433758, 256.01662544])"
      ]
     },
     "execution_count": 13,
     "metadata": {},
     "output_type": "execute_result"
    }
   ],
   "source": [
    "1/p"
   ]
  },
  {
   "cell_type": "code",
   "execution_count": null,
   "metadata": {},
   "outputs": [],
   "source": []
  },
  {
   "cell_type": "code",
   "execution_count": null,
   "metadata": {},
   "outputs": [],
   "source": []
  }
 ],
 "metadata": {
  "kernelspec": {
   "display_name": "Python 3",
   "language": "python",
   "name": "python3"
  },
  "language_info": {
   "codemirror_mode": {
    "name": "ipython",
    "version": 3
   },
   "file_extension": ".py",
   "mimetype": "text/x-python",
   "name": "python",
   "nbconvert_exporter": "python",
   "pygments_lexer": "ipython3",
   "version": "3.7.6"
  }
 },
 "nbformat": 4,
 "nbformat_minor": 2
}
