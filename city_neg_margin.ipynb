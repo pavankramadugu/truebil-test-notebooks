{
 "cells": [
  {
   "cell_type": "code",
   "execution_count": null,
   "metadata": {},
   "outputs": [],
   "source": [
    "{\"1\": {\"(0.0, 200000.0]\": 0.095, \"(200000.0, 500000.0]\": 0.075, \"(500000.0, inf]\": 0.055},\n",
    " \"2\": {\"(0.0, 200000.0]\": 0.105, \"(200000.0, 500000.0]\": 0.085, \"(500000.0, inf]\": 0.065},\n",
    " \"5\": {\"(0.0, 200000.0]\": 0.105, \"(200000.0, 500000.0]\": 0.085, \"(500000.0, inf]\": 0.065}}"
   ]
  },
  {
   "cell_type": "code",
   "execution_count": null,
   "metadata": {},
   "outputs": [],
   "source": [
    "{\"1\": {\"(0.0, 200000.0]\": 0.10, \"(200000.0, 500000.0]\": 0.08, \"(500000.0, inf]\": 0.06},\n",
    " \"2\": {\"(0.0, 200000.0]\": 0.11, \"(200000.0, 500000.0]\": 0.09, \"(500000.0, inf]\": 0.07},\n",
    " \"5\": {\"(0.0, 200000.0]\": 0.11, \"(200000.0, 500000.0]\": 0.09, \"(500000.0, inf]\": 0.07}}"
   ]
  }
 ],
 "metadata": {
  "kernelspec": {
   "display_name": "Python 3",
   "language": "python",
   "name": "python3"
  },
  "language_info": {
   "codemirror_mode": {
    "name": "ipython",
    "version": 3
   },
   "file_extension": ".py",
   "mimetype": "text/x-python",
   "name": "python",
   "nbconvert_exporter": "python",
   "pygments_lexer": "ipython3",
   "version": "3.7.4"
  }
 },
 "nbformat": 4,
 "nbformat_minor": 2
}
