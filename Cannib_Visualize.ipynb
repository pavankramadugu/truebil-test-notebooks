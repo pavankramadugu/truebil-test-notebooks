{
 "cells": [
  {
   "cell_type": "code",
   "execution_count": null,
   "metadata": {},
   "outputs": [],
   "source": [
    "def get_cannibalisation_data(listings_df_list):\n",
    "    mp_dataframe = pd.DataFrame()\n",
    "    for city_id in CB_PARAM_DATA.city_id_name_dict.keys():\n",
    "        add_log(\"CANNIBALISATION STARTED FOR CITY ID : \" + str(city_id))\n",
    "        city_listings_data, td_unique_models = get_city_wise_data(listings_df_list, city_id)\n",
    "        city_listings_data = city_listings_data.loc[~city_listings_data['model_id'].isin(td_unique_models)]\n",
    "\n",
    "        city_depreciation_factors = CB_PARAM_DATA.city_wise_params['depreciation_data'][str(city_id)]\n",
    "\n",
    "        for model_id in td_unique_models:\n",
    "            td_active, mp_expired, mp_active = get_column_wise_data(city_listings_data, 'model_id', model_id)\n",
    "            all_mp_data = pd.concat([mp_expired, mp_active], axis=0).reset_index(drop=True)\n",
    "            if len(all_mp_data):\n",
    "                model_depreciation_factors = city_depreciation_factors.get(str(model_id),\n",
    "                                                                           city_depreciation_factors['overall'])\n",
    "                set_normalised_data(all_mp_data, td_active)\n",
    "                model_mp_listings = get_mp_status_data(td_active, all_mp_data, model_depreciation_factors, city_id)\n",
    "                mp_dataframe = pd.concat([mp_dataframe, model_mp_listings], axis=0).reset_index(drop=True)\n",
    "\n",
    "        add_log(\"CANNIBALISATION COMPLETED FOR CITY ID : \" + str(city_id))\n",
    "    mp_dataframe = get_valid_mp_data(mp_dataframe)\n",
    "    return mp_dataframe"
   ]
  }
 ],
 "metadata": {
  "kernelspec": {
   "display_name": "Python 3",
   "language": "python",
   "name": "python3"
  },
  "language_info": {
   "codemirror_mode": {
    "name": "ipython",
    "version": 3
   },
   "file_extension": ".py",
   "mimetype": "text/x-python",
   "name": "python",
   "nbconvert_exporter": "python",
   "pygments_lexer": "ipython3",
   "version": "3.7.6"
  },
  "pycharm": {
   "stem_cell": {
    "cell_type": "raw",
    "metadata": {
     "collapsed": false
    },
    "source": []
   }
  }
 },
 "nbformat": 4,
 "nbformat_minor": 2
}
