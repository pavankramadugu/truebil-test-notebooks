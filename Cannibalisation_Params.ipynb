{
 "cells": [
  {
   "cell_type": "code",
   "execution_count": 19,
   "metadata": {},
   "outputs": [],
   "source": [
    "#For PXBT\n",
    "\n",
    "b = {\"levels\": {\n",
    "    \"model\": {\"depreciation_data\": {\"1\": {\n",
    "        \"overall\": {\"0\": 0.76, \"1\": 0.72, \"2\": 0.67, \"3\": 0.62, \"4\": 0.59, \"5\": 0.55, \"6\": 0.53, \"7\": 0.48, \"8\": 0.45,\n",
    "                    \"9\": 0.4, \"10\": 0.36, \"11\": 0.32, \"12\": 0.29, \"13\": 0.25, \"14\": 0.21}}, \"2\": {\n",
    "        \"overall\": {\"0\": 0.84, \"1\": 0.79, \"2\": 0.71, \"3\": 0.65, \"4\": 0.6, \"5\": 0.57, \"6\": 0.55, \"7\": 0.47, \"8\": 0.42,\n",
    "                    \"9\": 0.37, \"10\": 0.32, \"11\": 0.27, \"12\": 0.22, \"13\": 0.17, \"14\": 0.12}}, \"5\": {\n",
    "        \"overall\": {\"0\": 0.82, \"1\": 0.79, \"2\": 0.77, \"3\": 0.71, \"4\": 0.67, \"5\": 0.64, \"6\": 0.62, \"7\": 0.58, \"8\": 0.54,\n",
    "                    \"9\": 0.51, \"10\": 0.48, \"11\": 0.44, \"12\": 0.41, \"13\": 0.37, \"14\": 0.34}}},\n",
    "        \"push_down_region_limit\": {\"1\": 2, \"2\": 2, \"5\": 2},\n",
    "        \"age_limit\": {\"absolute\": {\"1\": [2, 2], \"2\": [2, 2], \"5\": [2, 2]},\n",
    "                      \"relative\": {\"1\": 15, \"2\": 15, \"5\": 15}},\n",
    "        \"price_high_limit_percentage\": {\"1\": 15, \"2\": 15, \"5\": 15}\n",
    "    },\n",
    "    \"price_body\":\n",
    "        {\n",
    "            \"push_down_region_limit\": {\"1\": 2, \"2\": 2, \"5\": 2},\n",
    "            \"age_limit\": {\"absolute\": {\"1\": [2, 2], \"2\": [2, 2], \"5\": [2, 2]},\n",
    "                          \"relative\": {\"1\": 15, \"2\": 15, \"5\": 15}},\n",
    "            \"price_high_limit_percentage\": {\"1\": 15, \"2\": 15, \"5\": 15}\n",
    "        }},\n",
    "    \"global_parameters\": {\n",
    "        \"status_days_range\": {\n",
    "            \"start_day\": {\"to_active\": {\"1\": 0, \"2\": 0, \"5\": 0}, \"to_expire\": {\"1\": 30, \"2\": 30, \"5\": 30}},\n",
    "            \"end_day\": {\"1\": 270, \"2\": 270, \"5\": 360}},\n",
    "        \"blanket\": {\"percentage\": {\"1\": 6, \"2\": 6, \"5\": 6},\n",
    "                    \"absolute\": {\"1\": 18000, \"2\": 18000, \"5\": 27000}},\n",
    "        \"min_users\": {\"car_sold_unavailable\": 2, \"seller_not_reachable\": 3}\n",
    "    }\n",
    "}"
   ]
  },
  {
   "cell_type": "code",
   "execution_count": 20,
   "metadata": {
    "scrolled": true
   },
   "outputs": [
    {
     "data": {
      "text/plain": [
       "3"
      ]
     },
     "execution_count": 20,
     "metadata": {},
     "output_type": "execute_result"
    }
   ],
   "source": [
    "b['global_parameters']['min_users']['seller_not_reachable']"
   ]
  },
  {
   "cell_type": "code",
   "execution_count": 3,
   "metadata": {},
   "outputs": [],
   "source": [
    "#For <30 ones\n",
    "\n",
    "c = {\"levels\": {\n",
    "    \"model\": {\"depreciation_data\": {\"1\": {\n",
    "        \"overall\": {\"0\": 0.76, \"1\": 0.72, \"2\": 0.67, \"3\": 0.62, \"4\": 0.59, \"5\": 0.55, \"6\": 0.53, \"7\": 0.48, \"8\": 0.45,\n",
    "                    \"9\": 0.4, \"10\": 0.36, \"11\": 0.32, \"12\": 0.29, \"13\": 0.25, \"14\": 0.21}}, \"2\": {\n",
    "        \"overall\": {\"0\": 0.84, \"1\": 0.79, \"2\": 0.71, \"3\": 0.65, \"4\": 0.6, \"5\": 0.57, \"6\": 0.55, \"7\": 0.47, \"8\": 0.42,\n",
    "                    \"9\": 0.37, \"10\": 0.32, \"11\": 0.27, \"12\": 0.22, \"13\": 0.17, \"14\": 0.12}}, \"5\": {\n",
    "        \"overall\": {\"0\": 0.82, \"1\": 0.79, \"2\": 0.77, \"3\": 0.71, \"4\": 0.67, \"5\": 0.64, \"6\": 0.62, \"7\": 0.58, \"8\": 0.54,\n",
    "                    \"9\": 0.51, \"10\": 0.48, \"11\": 0.44, \"12\": 0.41, \"13\": 0.37, \"14\": 0.34}}},\n",
    "        \"push_down_region_limit\": {\"1\": 2, \"2\": 2, \"5\": 2},\n",
    "        \"age_limit\": {\"absolute\": {\"1\": [2, 2], \"2\": [2, 2], \"5\": [2, 2]},\n",
    "                      \"relative\": {\"1\": 15, \"2\": 15, \"5\": 15}},\n",
    "        \"price_high_limit_percentage\": {\"1\": 15, \"2\": 15, \"5\": 15}\n",
    "    },\n",
    "    \"price_body\":\n",
    "        {\n",
    "            \"push_down_region_limit\": {\"1\": 2, \"2\": 2, \"5\": 2},\n",
    "            \"age_limit\": {\"absolute\": {\"1\": [2, 2], \"2\": [2, 2], \"5\": [2, 2]},\n",
    "                          \"relative\": {\"1\": 15, \"2\": 15, \"5\": 15}},\n",
    "            \"price_high_limit_percentage\": {\"1\": 15, \"2\": 15, \"5\": 15}\n",
    "        }},\n",
    "    \"global_parameters\": {\n",
    "        \"status_days_range\": {\n",
    "            \"start_day\": {\"to_active\": {\"1\": 0, \"2\": 0, \"5\": 0}, \"to_expire\": {\"1\": 0, \"2\": 0, \"5\": 0}},\n",
    "            \"end_day\": {\"1\": 270, \"2\": 270, \"5\": 360}},\n",
    "        \"blanket\": {\"percentage\": {\"1\": 6, \"2\": 6, \"5\": 6},\n",
    "                    \"absolute\": {\"1\": 18000, \"2\": 18000, \"5\": 27000}},\n",
    "        \"min_users\": {\"car_sold_unavailable\": 2, \"seller_not_reachable\": 3}\n",
    "    }\n",
    "}"
   ]
  },
  {
   "cell_type": "code",
   "execution_count": 1,
   "metadata": {},
   "outputs": [],
   "source": []
  },
  {
   "cell_type": "code",
   "execution_count": 4,
   "metadata": {},
   "outputs": [
    {
     "data": {
      "text/plain": [
       "2"
      ]
     },
     "execution_count": 4,
     "metadata": {},
     "output_type": "execute_result"
    }
   ],
   "source": [
    "c['global_parameters']['min_users']['car_sold_unavailable']"
   ]
  },
  {
   "cell_type": "code",
   "execution_count": 1,
   "metadata": {},
   "outputs": [],
   "source": [
    "k = {\"levels\": {\"model\": {\"depreciation_data\": {\"1\": {\n",
    "    \"overall\": {\"0\": 0.76, \"1\": 0.72, \"2\": 0.67, \"3\": 0.62, \"4\": 0.59, \"5\": 0.55, \"6\": 0.53, \"7\": 0.48, \"8\": 0.45,\n",
    "                \"9\": 0.4, \"10\": 0.36, \"11\": 0.32, \"12\": 0.29, \"13\": 0.25, \"14\": 0.21}}, \"2\": {\n",
    "    \"overall\": {\"0\": 0.84, \"1\": 0.79, \"2\": 0.71, \"3\": 0.65, \"4\": 0.6, \"5\": 0.57, \"6\": 0.55, \"7\": 0.47, \"8\": 0.42,\n",
    "                \"9\": 0.37, \"10\": 0.32, \"11\": 0.27, \"12\": 0.22, \"13\": 0.17, \"14\": 0.12}}, \"5\": {\n",
    "    \"overall\": {\"0\": 0.82, \"1\": 0.79, \"2\": 0.77, \"3\": 0.71, \"4\": 0.67, \"5\": 0.64, \"6\": 0.62, \"7\": 0.58, \"8\": 0.54,\n",
    "                \"9\": 0.51, \"10\": 0.48, \"11\": 0.44, \"12\": 0.41, \"13\": 0.37, \"14\": 0.34}}},\n",
    "                      \"push_down_region_limit\": {\"1\": 1, \"2\": 1, \"5\": 1},\n",
    "                      \"age_limit\": {\"absolute\": {\"1\": [2, 2], \"2\": [2, 2], \"5\": [2, 2]},\n",
    "                                    \"relative\": {\"1\": 15, \"2\": 15, \"5\": 15}},\n",
    "                      \"price_high_limit_percentage\": {\"1\": 15, \"2\": 15, \"5\": 15}},\n",
    "            \"price_body\": {\"push_down_region_limit\": {\"1\": 1, \"2\": 1, \"5\": 1},\n",
    "                           \"age_limit\": {\"absolute\": {\"1\": [1, 1], \"2\": [1, 1], \"5\": [1, 1]},\n",
    "                                         \"relative\": {\"1\": 15, \"2\": 15, \"5\": 15}},\n",
    "                           \"price_high_limit_percentage\": {\"1\": 15, \"2\": 15, \"5\": 15}}}, \n",
    " \"global_parameters\": {\n",
    "    \"status_days_range\": {\"start_day\": {\"to_active\": {\"1\": 0, \"2\": 0, \"5\": 0}, \"to_expire\": {\"1\": 0, \"2\": 0, \"5\": 0}},\n",
    "                          \"end_day\": {\"1\": 270, \"2\": 360, \"5\": 360}},\n",
    "    \"blanket\": {\"percentage\": {\"1\": 6, \"2\": 6, \"5\": 6}, \"absolute\": {\"1\": 18000, \"2\": 18000, \"5\": 27000}},\n",
    "    \"min_users\": {\"car_sold_unavailable\": 2, \"seller_not_reachable\": 3},\n",
    "    \"price_limit_relevant\": {\"high\": 0.3, \"low\": 0.3}}}"
   ]
  },
  {
   "cell_type": "code",
   "execution_count": 2,
   "metadata": {},
   "outputs": [
    {
     "data": {
      "text/plain": [
       "0.3"
      ]
     },
     "execution_count": 2,
     "metadata": {},
     "output_type": "execute_result"
    }
   ],
   "source": [
    "k[\"global_parameters\"][\"price_limit_relevant\"]['low']"
   ]
  },
  {
   "cell_type": "code",
   "execution_count": 8,
   "metadata": {},
   "outputs": [],
   "source": [
    "final = {\"levels\": {\"model\": {\"depreciation_data\": {\"1\": {\n",
    "    \"overall\": {\"0\": 0.76, \"1\": 0.72, \"2\": 0.67, \"3\": 0.62, \"4\": 0.59, \"5\": 0.55, \"6\": 0.53, \"7\": 0.48, \"8\": 0.45,\n",
    "                \"9\": 0.4, \"10\": 0.36, \"11\": 0.32, \"12\": 0.29, \"13\": 0.25, \"14\": 0.21}}, \"2\": {\n",
    "    \"overall\": {\"0\": 0.84, \"1\": 0.79, \"2\": 0.71, \"3\": 0.65, \"4\": 0.6, \"5\": 0.57, \"6\": 0.55, \"7\": 0.47, \"8\": 0.42,\n",
    "                \"9\": 0.37, \"10\": 0.32, \"11\": 0.27, \"12\": 0.22, \"13\": 0.17, \"14\": 0.12}}, \"5\": {\n",
    "    \"overall\": {\"0\": 0.82, \"1\": 0.79, \"2\": 0.77, \"3\": 0.71, \"4\": 0.67, \"5\": 0.64, \"6\": 0.62, \"7\": 0.58, \"8\": 0.54,\n",
    "                \"9\": 0.51, \"10\": 0.48, \"11\": 0.44, \"12\": 0.41, \"13\": 0.37, \"14\": 0.34}}},\n",
    "                      \"push_down_region_limit\": {\"1\": 1, \"2\": 1, \"5\": 1},\n",
    "                      \"age_limit\": {\"absolute\": {\"1\": [2, 2], \"2\": [2, 2], \"5\": [2, 2]},\n",
    "                                    \"relative\": {\"1\": 15, \"2\": 15, \"5\": 15}},\n",
    "                      \"price_high_limit_percentage\": {\"1\": 15, \"2\": 15, \"5\": 15}},\n",
    "            \"price_body\": {\"push_down_region_limit\": {\"1\": 1, \"2\": 0, \"5\": 1},\n",
    "                           \"age_limit\": {\"absolute\": {\"1\": [2, 2], \"2\": [2, 2], \"5\": [2, 2]},\n",
    "                                         \"relative\": {\"1\": 15, \"2\": 15, \"5\": 15}},\n",
    "                           \"price_high_limit_percentage\": {\"1\": 15, \"2\": 15, \"5\": 15}}}, \n",
    " \"global_parameters\": {\n",
    "    \"status_days_range\": {\"start_day\": {\"to_active\": {\"1\": 0, \"2\": 0, \"5\": 0}, \"to_expire\": {\"1\": 0, \"2\": 0, \"5\": 0}},\n",
    "                          \"end_day\": {\"1\": 240, \"2\": 210, \"5\": 210}},\n",
    "    \"blanket\": {\"percentage\": {\"1\": 8, \"2\": 8, \"5\": 8}, \"absolute\": {\"1\": 18000, \"2\": 18000, \"5\": 27000}},\n",
    "    \"min_users\": {\"car_sold_unavailable\": 2, \"seller_not_reachable\": 3},\n",
    "    \"price_limit_relevant\": {\"higher_limit\": 0.3, \"lower_limit\": 0.3},\n",
    "    \"days_since_active_limit\": 14}}"
   ]
  },
  {
   "cell_type": "code",
   "execution_count": 9,
   "metadata": {},
   "outputs": [
    {
     "data": {
      "text/plain": [
       "14"
      ]
     },
     "execution_count": 9,
     "metadata": {},
     "output_type": "execute_result"
    }
   ],
   "source": [
    "final[\"global_parameters\"][\"days_since_active_limit\"]"
   ]
  },
  {
   "cell_type": "code",
   "execution_count": null,
   "metadata": {},
   "outputs": [],
   "source": []
  }
 ],
 "metadata": {
  "kernelspec": {
   "display_name": "Python 3",
   "language": "python",
   "name": "python3"
  },
  "language_info": {
   "codemirror_mode": {
    "name": "ipython",
    "version": 3
   },
   "file_extension": ".py",
   "mimetype": "text/x-python",
   "name": "python",
   "nbconvert_exporter": "python",
   "pygments_lexer": "ipython3",
   "version": "3.7.4"
  }
 },
 "nbformat": 4,
 "nbformat_minor": 2
}
