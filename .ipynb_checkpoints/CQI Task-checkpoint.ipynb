{
 "cells": [
  {
   "cell_type": "code",
   "execution_count": 29,
   "metadata": {},
   "outputs": [],
   "source": [
    "def sql_result(query):\n",
    "    database = pymysql.connect(host='db-read.truebil.com', user='truebil-read',\n",
    "                               passwd='newreadpassword', db='truebil')\n",
    "    cursor = database.cursor()\n",
    "    cursor.execute(query)\n",
    "    database.commit()\n",
    "    query_result_list = [row for row in cursor.fetchall()]\n",
    "    try:\n",
    "        field_names = [i[0] for i in cursor.description]\n",
    "        query_result_dataframe = pd.DataFrame(data=query_result_list, columns=field_names)\n",
    "    except Exception:\n",
    "        query_result_dataframe = None\n",
    "    return query_result_dataframe\n"
   ]
  },
  {
   "cell_type": "code",
   "execution_count": 30,
   "metadata": {},
   "outputs": [],
   "source": [
    "def listToStr(List, sep=',', pre='(', post=')'):\n",
    "    return pre + sep.join(str(x) for x in List) + post"
   ]
  },
  {
   "cell_type": "code",
   "execution_count": 31,
   "metadata": {},
   "outputs": [],
   "source": [
    "def get_car_quality_issues_listings():\n",
    "    bad_quality_listings = sql_result(CAR_QUALITY_ISSUE_LISTINGS)\n",
    "    print(bad_quality_listings)\n",
    "    bad_quality_listings_list = bad_quality_listings['listing_id'].tolist()\n",
    "    \n",
    "    refurbished_cars_listings = sql_result(\n",
    "        CAR_QUALITY_CARS_IN_REFURB.format(listings=listToStr(bad_quality_listings_list)))\n",
    "    \n",
    "    merged_df = refurbished_cars_listings.merge(bad_quality_listings, left_on='listing_id', right_on='listing_id')\n",
    "    \n",
    "    refurb_list = merged_df.loc[merged_df['refurb_date'] >= merged_df['visit_created_at']]['listing_id'].tolist()\n",
    "    \n",
    "    refurb_set = set(refurb_list)\n",
    "    \n",
    "    bad_quality_listings_set = set(bad_quality_listings_list)\n",
    "    \n",
    "    eligible_listings_set = bad_quality_listings_set - refurb_set\n",
    "    \n",
    "    return eligible_listings_set"
   ]
  },
  {
   "cell_type": "code",
   "execution_count": 32,
   "metadata": {},
   "outputs": [
    {
     "name": "stdout",
     "output_type": "stream",
     "text": [
      "     visit_created_at  listing_id   price\n",
      "0 2019-10-26 11:30:42       73054  180000\n",
      "1 2019-11-23 08:35:31       75076  462000\n",
      "2 2019-12-16 14:11:01       77210  775000\n",
      "3 2019-12-24 07:56:48       79006  484000\n",
      "4 2019-12-22 12:18:59       79254  192000\n",
      "5 2019-12-16 07:43:40       79390  667000\n",
      "6 2019-12-10 12:39:56       79798  478000\n",
      "7 2019-12-25 07:09:43       79889  588000\n",
      "{73054, 75076, 79390, 79889, 79254, 79798, 77210, 79006}\n"
     ]
    }
   ],
   "source": [
    "car_quality_issue_listings = get_car_quality_issues_listings()\n",
    "print(car_quality_issue_listings)"
   ]
  },
  {
   "cell_type": "code",
   "execution_count": 33,
   "metadata": {},
   "outputs": [
    {
     "name": "stdout",
     "output_type": "stream",
     "text": [
      "     visit_created_at  listing_id   price\n",
      "0 2019-10-26 11:30:42       73054  180000\n",
      "1 2019-11-23 08:35:31       75076  462000\n",
      "2 2019-12-16 14:11:01       77210  775000\n",
      "3 2019-12-24 07:56:48       79006  484000\n",
      "4 2019-12-22 12:18:59       79254  192000\n",
      "5 2019-12-16 07:43:40       79390  667000\n",
      "6 2019-12-10 12:39:56       79798  478000\n",
      "7 2019-12-25 07:09:43       79889  588000\n"
     ]
    }
   ],
   "source": [
    "CAR_QUALITY_ISSUE_LISTINGS = \"\"\"SELECT MAX(bvltdl.created_at) AS visit_created_at, bvl.listing_id AS listing_id, l.price\n",
    "FROM buyer_visit_listing_test_driven_logs bvltdl\n",
    "    JOIN buyer_visit_listings bvl ON bvltdl.buyer_visit_listing_id = bvl.id\n",
    "    JOIN listings l ON bvl.listing_id = l.id\n",
    "WHERE bvltdl.buyer_visit_listing_test_driven_status_id = 7 AND l.status = 'active'\n",
    "GROUP BY bvl.listing_id\"\"\"\n",
    "\n",
    "print(sql_result(CAR_QUALITY_ISSUE_LISTINGS))"
   ]
  },
  {
   "cell_type": "code",
   "execution_count": 34,
   "metadata": {},
   "outputs": [],
   "source": [
    "CAR_QUALITY_CARS_IN_REFURB = \"\"\"SELECT listing_id, MAX(changed_at) AS refurb_date FROM listing_status_track \n",
    "WHERE status_to='refurbishing' AND listing_id IN {listings} GROUP BY listing_id\"\"\""
   ]
  },
  {
   "cell_type": "code",
   "execution_count": 22,
   "metadata": {},
   "outputs": [],
   "source": [
    "import pymysql\n",
    "import pandas as pd\n"
   ]
  },
  {
   "cell_type": "code",
   "execution_count": null,
   "metadata": {},
   "outputs": [],
   "source": []
  },
  {
   "cell_type": "code",
   "execution_count": null,
   "metadata": {},
   "outputs": [],
   "source": []
  }
 ],
 "metadata": {
  "kernelspec": {
   "display_name": "Python 3",
   "language": "python",
   "name": "python3"
  },
  "language_info": {
   "codemirror_mode": {
    "name": "ipython",
    "version": 3
   },
   "file_extension": ".py",
   "mimetype": "text/x-python",
   "name": "python",
   "nbconvert_exporter": "python",
   "pygments_lexer": "ipython3",
   "version": "3.7.6"
  }
 },
 "nbformat": 4,
 "nbformat_minor": 2
}
