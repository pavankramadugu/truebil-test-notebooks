{
 "cells": [
  {
   "cell_type": "code",
   "execution_count": 42,
   "metadata": {},
   "outputs": [],
   "source": [
    "import numpy as np\n",
    "import sys\n",
    "import pandas as pd\n",
    "import redis\n",
    "import pickle\n",
    "import itertools\n",
    "from sklearn.metrics.pairwise import cosine_similarity\n",
    "import scipy.sparse as sp"
   ]
  },
  {
   "cell_type": "code",
   "execution_count": 43,
   "metadata": {},
   "outputs": [
    {
     "ename": "NameError",
     "evalue": "name 'models' is not defined",
     "output_type": "error",
     "traceback": [
      "\u001b[0;31m---------------------------------------------------------------------------\u001b[0m",
      "\u001b[0;31mNameError\u001b[0m                                 Traceback (most recent call last)",
      "\u001b[0;32m<ipython-input-43-218e5841938c>\u001b[0m in \u001b[0;36m<module>\u001b[0;34m()\u001b[0m\n\u001b[0;32m----> 1\u001b[0;31m \u001b[0;32mclass\u001b[0m \u001b[0mFuelType\u001b[0m\u001b[0;34m(\u001b[0m\u001b[0mmodels\u001b[0m\u001b[0;34m.\u001b[0m\u001b[0mModel\u001b[0m\u001b[0;34m)\u001b[0m\u001b[0;34m:\u001b[0m\u001b[0;34m\u001b[0m\u001b[0m\n\u001b[0m\u001b[1;32m      2\u001b[0m     \u001b[0mname\u001b[0m \u001b[0;34m=\u001b[0m \u001b[0mmodels\u001b[0m\u001b[0;34m.\u001b[0m\u001b[0mCharField\u001b[0m\u001b[0;34m(\u001b[0m\u001b[0mmax_length\u001b[0m\u001b[0;34m=\u001b[0m\u001b[0;36m50\u001b[0m\u001b[0;34m)\u001b[0m\u001b[0;34m\u001b[0m\u001b[0m\n\u001b[1;32m      3\u001b[0m     \u001b[0mis_active\u001b[0m \u001b[0;34m=\u001b[0m \u001b[0mmodels\u001b[0m\u001b[0;34m.\u001b[0m\u001b[0mBooleanField\u001b[0m\u001b[0;34m(\u001b[0m\u001b[0mdefault\u001b[0m\u001b[0;34m=\u001b[0m\u001b[0mFalse\u001b[0m\u001b[0;34m)\u001b[0m\u001b[0;34m\u001b[0m\u001b[0m\n\u001b[1;32m      4\u001b[0m     \u001b[0mis_secondary\u001b[0m \u001b[0;34m=\u001b[0m \u001b[0mmodels\u001b[0m\u001b[0;34m.\u001b[0m\u001b[0mBooleanField\u001b[0m\u001b[0;34m(\u001b[0m\u001b[0mdefault\u001b[0m\u001b[0;34m=\u001b[0m\u001b[0mFalse\u001b[0m\u001b[0;34m)\u001b[0m\u001b[0;34m\u001b[0m\u001b[0m\n\u001b[1;32m      5\u001b[0m \u001b[0;34m\u001b[0m\u001b[0m\n",
      "\u001b[0;31mNameError\u001b[0m: name 'models' is not defined"
     ]
    }
   ],
   "source": [
    "class FuelType(models.Model):\n",
    "    name = models.CharField(max_length=50)\n",
    "    is_active = models.BooleanField(default=False)\n",
    "    is_secondary = models.BooleanField(default=False)\n",
    "\n",
    "    class Meta:\n",
    "        db_table = 'fuel_types'\n",
    "\n",
    "    def __unicode__():\n",
    "        return '%s - %s' % (id, name)"
   ]
  },
  {
   "cell_type": "code",
   "execution_count": 38,
   "metadata": {},
   "outputs": [],
   "source": [
    "TOP_ORDER_LISTINGS_STATUSES = ['active', 'refurbishing']\n",
    "\n",
    "def pandas_cached_Aquery(query, disable_cache=True):\n",
    "    return pd.read_sql_query(query)\n",
    "    \n",
    "LISTING_FEATURE_QUERY = \"\"\"SELECT listings.id, localities.city_id, IFNULL(price, 0) < 200000 AS price_b_2,\n",
    "                           IFNULL(price, 0) BETWEEN 100000 AND 300000 AS price_bw_1_3, IFNULL(price, 0) BETWEEN 200000\n",
    "                           AND 400000 AS price_bw_2_4, IFNULL(price, 0) BETWEEN 300000 AND 500000 AS price_bw_3_5,\n",
    "                           IFNULL(price, 0) BETWEEN 400000 AND 600000 AS price_bw_4_6, IFNULL(price, 0) BETWEEN 500000\n",
    "                           AND 700000 AS price_bw_5_7, IFNULL(price, 0) BETWEEN 600000 AND 800000 AS price_bw_6_8,\n",
    "                           IFNULL(price, 0) BETWEEN 700000 AND 900000 AS price_bw_7_9, IFNULL(price, 0) > 900000 AS\n",
    "                           price_a_9, IFNULL(listings.body_type_id = 1, 0) AS hatchback, IFNULL(listings.body_type_id = \n",
    "                           2, 0) AS sedan, IFNULL(listings.body_type_id = 3, 0) AS mpv, IFNULL(listings.body_type_id = \n",
    "                           4, 0) AS suv, listings.fuel_type_id_primary = 1 AS petrol, listings.fuel_type_id_primary = 2 \n",
    "                           AS diesel, IFNULL(owners, 0) = 1 AS first_owner, IFNULL(owners, 0) > 1 AS owner, \n",
    "                           IFNULL(mileage, 0) <= 30000 AS mileage_b_3, IFNULL(mileage, 0) BETWEEN 30001 AND 70000 AS \n",
    "                           mileage_bw_3_7, IFNULL(mileage, 0) > 70000 AS mileage_a_7, IFNULL(year(curdate())-\n",
    "                           year(registration_date), 0) <= 2 AS age_b_2, IFNULL(year(curdate())-year(registration_date), \n",
    "                           0) BETWEEN 3 AND 4 AS age_bw_3_4, IFNULL (year(curdate())- year(registration_date), 0) \n",
    "                           BETWEEN 5 AND 7 AS age_bw_5_7, IFNULL(year(curdate())- year(registration_date), 0)>7 AS \n",
    "                           age_a_7,  IFNULL(variants.model_id, 0) IN (SELECT variants.model_id FROM listings JOIN \n",
    "                           variants ON listings.variant_id=variants.id WHERE listings.id IN ({listing_ids})) AS model_id,\n",
    "                           IFNULL(variants.id, 0) IN (SELECT variants.id FROM listings JOIN variants ON listings.\n",
    "                           variant_id=variants.id WHERE listings.id IN ({listing_ids})) AS variant_id, IFNULL(listings.\n",
    "                           color_id, 0) IN (1 , 3, 6) AS color_wsg, IFNULL(listings.color_id, 0) IN (2 , 13) AS color_bo,\n",
    "                           IFNULL(listings.color_id, 0) NOT IN (1 , 2, 3, 6, 13) AS color_rest, IFNULL(CAST(listings.\n",
    "                           is_inventory AS UNSIGNED), 0) AS is_inventory, price, created_at FROM listings JOIN \n",
    "                           localities ON listings.locality_id = localities.id JOIN variants ON listings.variant_id = \n",
    "                           variants.id where {filter_query}\"\"\""
   ]
  },
  {
   "cell_type": "code",
   "execution_count": 39,
   "metadata": {},
   "outputs": [],
   "source": [
    "def get_listing_features(city_id, listings=None, inactive=False, listing_filter=True):\n",
    "    city_filter = \"\"\"localities.city_id = {city_id}\"\"\".format(city_id=city_id)\n",
    "    listing_id_filter = \"\"\"listings.id in ({listings})\"\"\".format(\n",
    "        listings=','.join(map(str, list(listings)))\n",
    "    ) if listings and listing_filter else None\n",
    "    listing_status_filter = \"\"\"listings.status in {status}\"\"\".format(\n",
    "        status=tuple(TOP_ORDER_LISTINGS_STATUSES)\n",
    "    ) if not inactive else None\n",
    "\n",
    "    filter_array = [city_filter, listing_id_filter, listing_status_filter]\n",
    "\n",
    "    listings_features = pandas_cached_query(\n",
    "        LISTING_FEATURE_QUERY.format(\n",
    "            filter_query=' and '.join(filter(None, filter_array)),\n",
    "            listing_ids=','.join(map(str, listings)) if listings else 0\n",
    "        )\n",
    "    )"
   ]
  },
  {
   "cell_type": "code",
   "execution_count": 40,
   "metadata": {},
   "outputs": [],
   "source": [
    "def get_similar_cars_from_filters(input_filters):\n",
    "    city_active_listings = np.load('/home/pavank/ds/docker/api/backend/city_active_listings.npy')\n",
    "    city_active_listings_features = np.array(city_active_listings)[:, 2:17]\n",
    "    city_active_listings_ids = np.array(city_active_listings)[:, 0]\n",
    "\n",
    "    int_max = sys.maxint\n",
    "    fields = [\"price_b_2\", \"price_bw_1_3\", \"price_bw_2_4\", \"price_bw_3_5\", \"price_bw_4_6\", \"price_bw_5_7\",\n",
    "              \"price_bw_6_8\", \"price_bw_7_9\", \"price_a_9\", \"Hatchback\", \"Sedan\", \"MPV\", \"SUV\", \"Petrol\", \"Diesel\"]\n",
    "    final = np.array([0, 0, 0, 0, 0, 0, 0, 0, 0, 0, 0, 0, 0, 0, 0], dtype='int32')\n",
    "\n",
    "    price_slab_field_mapping = {\n",
    "        \"price_b_2\": {'min': 0, 'max': 2000000},\n",
    "        \"price_bw_1_3\": {'min': 100000, 'max': 300000},\n",
    "        \"price_bw_2_4\": {'min': 200000, 'max': 400000},\n",
    "        \"price_bw_3_5\": {'min': 300000, 'max': 500000},\n",
    "        \"price_bw_4_6\": {'min': 400000, 'max': 600000},\n",
    "        \"price_bw_5_7\": {'min': 500000, 'max': 700000},\n",
    "        \"price_bw_6_8\": {'min': 600000, 'max': 800000},\n",
    "        \"price_bw_7_9\": {'min': 700000, 'max': 900000},\n",
    "        \"price_a_9\": {'min': 900000, 'max': int_max},\n",
    "    }\n",
    "    body_types = dict()\n",
    "\n",
    "    for body_type_obj in list(BodyType.objects.values('id', 'name')):\n",
    "        body_types[str(body_type_obj['id'])] = body_type_obj['name']\n",
    "\n",
    "    fuel_types = dict()\n",
    "\n",
    "    for fuel_type_obj in list(FuelType.objects.filter(is_active=True, is_secondary=False).values('id', 'name')):\n",
    "        fuel_types[str(fuel_type_obj['id'])] = fuel_type_obj['name']\n",
    "\n",
    "    if 'price_min' in input_filters.keys():\n",
    "        price_min = input_filters['price_min']\n",
    "    else:\n",
    "        price_min = 0\n",
    "\n",
    "    if 'price_max' in input_filters.keys():\n",
    "        price_max = input_filters['price_max']\n",
    "    else:\n",
    "        price_max = int_max - 1\n",
    "\n",
    "    for key, value in price_slab_field_mapping.iteritems():\n",
    "        if int(price_min) >= value['min'] and int(price_max) < value['max']:\n",
    "            final[fields.index(key)] = 1\n",
    "\n",
    "    if 'body_type' in input_filters.keys():\n",
    "        body_type = input_filters['body_type']\n",
    "        body_type = body_type.split(',')\n",
    "        for key in body_type:\n",
    "            if key in list(range(1, 5)):\n",
    "                final[fields.index(body_types[key])] = 1\n",
    "\n",
    "    if 'fuel_type' in input_filters.keys():\n",
    "        fuel_type = input_filters['fuel_type']\n",
    "        fuel_type = fuel_type.split(',')\n",
    "        for key in fuel_type:\n",
    "            final[fields.index(fuel_types[key])] = 1\n",
    "\n",
    "    listing_car_features = np.asarray([final])\n",
    "\n",
    "    similarity_indices = np.argsort(\n",
    "        -cosine_similarity(city_active_listings_features, listing_car_features).reshape(1, -1))\n",
    "\n",
    "    similar_listings = city_active_listings_ids[similarity_indices].flatten()\n",
    "\n",
    "    return similar_listings"
   ]
  },
  {
   "cell_type": "code",
   "execution_count": 41,
   "metadata": {},
   "outputs": [
    {
     "ename": "NameError",
     "evalue": "global name 'BodyType' is not defined",
     "output_type": "error",
     "traceback": [
      "\u001b[0;31m---------------------------------------------------------------------------\u001b[0m",
      "\u001b[0;31mNameError\u001b[0m                                 Traceback (most recent call last)",
      "\u001b[0;32m<ipython-input-41-c0f2481e214a>\u001b[0m in \u001b[0;36m<module>\u001b[0;34m()\u001b[0m\n\u001b[1;32m      1\u001b[0m input_filters = {'sort': 'r', 'price_max': 6500000, 'cars_seen': '84360,86280', 'years': '2015-01-01',\n\u001b[1;32m      2\u001b[0m                          'user_search': 'true', 'model': '689', 'price_min': '700000', 'slug': 'used-cars-in-mumbai'}\n\u001b[0;32m----> 3\u001b[0;31m \u001b[0mget_similar_cars_from_filters\u001b[0m\u001b[0;34m(\u001b[0m\u001b[0minput_filters\u001b[0m\u001b[0;34m)\u001b[0m\u001b[0;34m\u001b[0m\u001b[0m\n\u001b[0m",
      "\u001b[0;32m<ipython-input-40-94b2a21cd1a4>\u001b[0m in \u001b[0;36mget_similar_cars_from_filters\u001b[0;34m(input_filters)\u001b[0m\n\u001b[1;32m     22\u001b[0m     \u001b[0mbody_types\u001b[0m \u001b[0;34m=\u001b[0m \u001b[0mdict\u001b[0m\u001b[0;34m(\u001b[0m\u001b[0;34m)\u001b[0m\u001b[0;34m\u001b[0m\u001b[0m\n\u001b[1;32m     23\u001b[0m \u001b[0;34m\u001b[0m\u001b[0m\n\u001b[0;32m---> 24\u001b[0;31m     \u001b[0;32mfor\u001b[0m \u001b[0mbody_type_obj\u001b[0m \u001b[0;32min\u001b[0m \u001b[0mlist\u001b[0m\u001b[0;34m(\u001b[0m\u001b[0mBodyType\u001b[0m\u001b[0;34m.\u001b[0m\u001b[0mobjects\u001b[0m\u001b[0;34m.\u001b[0m\u001b[0mvalues\u001b[0m\u001b[0;34m(\u001b[0m\u001b[0;34m'id'\u001b[0m\u001b[0;34m,\u001b[0m \u001b[0;34m'name'\u001b[0m\u001b[0;34m)\u001b[0m\u001b[0;34m)\u001b[0m\u001b[0;34m:\u001b[0m\u001b[0;34m\u001b[0m\u001b[0m\n\u001b[0m\u001b[1;32m     25\u001b[0m         \u001b[0mbody_types\u001b[0m\u001b[0;34m[\u001b[0m\u001b[0mstr\u001b[0m\u001b[0;34m(\u001b[0m\u001b[0mbody_type_obj\u001b[0m\u001b[0;34m[\u001b[0m\u001b[0;34m'id'\u001b[0m\u001b[0;34m]\u001b[0m\u001b[0;34m)\u001b[0m\u001b[0;34m]\u001b[0m \u001b[0;34m=\u001b[0m \u001b[0mbody_type_obj\u001b[0m\u001b[0;34m[\u001b[0m\u001b[0;34m'name'\u001b[0m\u001b[0;34m]\u001b[0m\u001b[0;34m\u001b[0m\u001b[0m\n\u001b[1;32m     26\u001b[0m \u001b[0;34m\u001b[0m\u001b[0m\n",
      "\u001b[0;31mNameError\u001b[0m: global name 'BodyType' is not defined"
     ]
    }
   ],
   "source": [
    "input_filters = {'sort': 'r', 'price_max': 6500000, 'cars_seen': '84360,86280', 'years': '2015-01-01',\n",
    "                         'user_search': 'true', 'model': '689', 'price_min': '700000', 'slug': 'used-cars-in-mumbai'}\n",
    "get_similar_cars_from_filters(input_filters)"
   ]
  },
  {
   "cell_type": "code",
   "execution_count": null,
   "metadata": {},
   "outputs": [],
   "source": []
  },
  {
   "cell_type": "code",
   "execution_count": null,
   "metadata": {},
   "outputs": [],
   "source": []
  }
 ],
 "metadata": {
  "kernelspec": {
   "display_name": "Python 2",
   "language": "python",
   "name": "python2"
  },
  "language_info": {
   "codemirror_mode": {
    "name": "ipython",
    "version": 2
   },
   "file_extension": ".py",
   "mimetype": "text/x-python",
   "name": "python",
   "nbconvert_exporter": "python",
   "pygments_lexer": "ipython2",
   "version": "2.7.16"
  }
 },
 "nbformat": 4,
 "nbformat_minor": 2
}
